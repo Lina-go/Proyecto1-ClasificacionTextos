{
 "cells": [
  {
   "cell_type": "code",
   "execution_count": 1,
   "metadata": {},
   "outputs": [],
   "source": [
    "import pandas as pd\n",
    "pd.set_option('display.max_colwidth', None)\n",
    "\n",
    "from sklearn.pipeline import Pipeline\n",
    "\n",
    "from nltk.stem import SnowballStemmer\n",
    "import spacy\n",
    "import re, unicodedata\n",
    "\n",
    "from nltk.tokenize import word_tokenize\n",
    "from nltk.corpus import stopwords\n",
    "from num2words import num2words\n",
    "\n",
    "import swifter\n",
    "\n",
    "from joblib import dump, load"
   ]
  },
  {
   "cell_type": "code",
   "execution_count": 2,
   "metadata": {},
   "outputs": [],
   "source": [
    "data = pd.read_excel(\"data/cat_345.xlsx\")"
   ]
  },
  {
   "cell_type": "code",
   "execution_count": 3,
   "metadata": {},
   "outputs": [
    {
     "data": {
      "text/html": [
       "<div>\n",
       "<style scoped>\n",
       "    .dataframe tbody tr th:only-of-type {\n",
       "        vertical-align: middle;\n",
       "    }\n",
       "\n",
       "    .dataframe tbody tr th {\n",
       "        vertical-align: top;\n",
       "    }\n",
       "\n",
       "    .dataframe thead th {\n",
       "        text-align: right;\n",
       "    }\n",
       "</style>\n",
       "<table border=\"1\" class=\"dataframe\">\n",
       "  <thead>\n",
       "    <tr style=\"text-align: right;\">\n",
       "      <th></th>\n",
       "      <th>Textos_espanol</th>\n",
       "      <th>sdg</th>\n",
       "    </tr>\n",
       "  </thead>\n",
       "  <tbody>\n",
       "    <tr>\n",
       "      <th>2089</th>\n",
       "      <td>Sostiene que las normas que afectan a los acuerdos privados de mujeres y hombres tienen un fuerte impacto en la participaciÃ³n de las mujeres en la vida pÃºblica. El capÃtulo contiene cuatro secciones principales: derecho de familia, integridad fÃsica, nacionalidad y acceso a la justicia. Cada secciÃ³n destaca los respectivos puntos de referencia internacionales, las tendencias en la legislaciÃ³n nacional y las lagunas de cumplimiento en la regiÃ³n de Oriente Medio y Norte de Ãfrica. En el Ã¡mbito del derecho de familia y la nacionalidad, el capÃtulo ofrece una visiÃ³n general de las discriminaciones legales que siguen obstaculizando la igualdad de la mujer con el hombre. En cuanto al acceso a la justicia y la violencia de gÃ©nero, muchos paÃses reconocen las cuestiones pendientes y se proponen abordar las lagunas restantes mediante agendas nacionales de reforma. Sin embargo, es necesario seguir actuando para permitir un acceso igualitario a la justicia y eliminar la violencia contra las mujeres, que parece ir en aumento tras las recientes revueltas en algunos paÃses de la regiÃ³n.</td>\n",
       "      <td>5</td>\n",
       "    </tr>\n",
       "    <tr>\n",
       "      <th>120</th>\n",
       "      <td>Además, desde 2011, se ha estado trabajando para desarrollar marcos de recursos integrados locales para la atención de la salud y la comunidad, que permiten a los sistemas locales cuantificar el uso de recursos en la atención social y de la salud entre las poblaciones (en lugar de las organizaciones) y realinear los recursos en consecuencia. El objetivo es realinear los recursos para ofrecer un mejor valor y una mejor atención centrada en el paciente. Hay una clara innovación en el uso de la infraestructura digital para capacitar a los profesionales de la salud para que estén equipados con las habilidades acordes con las necesidades del NHS.</td>\n",
       "      <td>3</td>\n",
       "    </tr>\n",
       "    <tr>\n",
       "      <th>154</th>\n",
       "      <td>También hay pagos relacionados con la colocación de personal de enfermería para la capacitación basada en estadías nocturnas para el apoyo a la independencia y la colocación de profesionales de la salud para los servicios de bienestar para discapacitados y hacen posible que las personas vivan en la comunidad mientras reciben apoyo relacionado con la salud. Se han establecido visitas de extensión de enfermería y servicios orientados a la comunidad en hospitales y clínicas privados para apoyar el alta temprana. También ha aumentado el número de guarderías psiquiátricas, clínicas ambulatorias psiquiátricas privadas e instalaciones de rehabilitación social. Además, el MHLW otorga subsidios para proyectos de “red de atención de salud mental infantil” implementados por la prefectura. Sin embargo, hay una escasez de hospitales centrales que se especialicen en la atención de la salud mental de los niños, con solo 21 hospitales con salas especializadas para niños y adolescentes en todo Japón. “Hikikomori”, un grupo identificado en Japón que generalmente se entiende como adolescentes solitarios o adultos jóvenes que se retiran de la vida social, a menudo buscando grados extremos de aislamiento y confinamiento, son motivo de especial preocupación.</td>\n",
       "      <td>3</td>\n",
       "    </tr>\n",
       "  </tbody>\n",
       "</table>\n",
       "</div>"
      ],
      "text/plain": [
       "                                                                                                                                                                                                                                                                                                                                                                                                                                                                                                                                                                                                                                                                                                                                                                                                                                                                                                                                                                                                                                                                                                                                                                                                                                                                                                Textos_espanol  \\\n",
       "2089                                                                                                                                                                Sostiene que las normas que afectan a los acuerdos privados de mujeres y hombres tienen un fuerte impacto en la participaciÃ³n de las mujeres en la vida pÃºblica. El capÃtulo contiene cuatro secciones principales: derecho de familia, integridad fÃsica, nacionalidad y acceso a la justicia. Cada secciÃ³n destaca los respectivos puntos de referencia internacionales, las tendencias en la legislaciÃ³n nacional y las lagunas de cumplimiento en la regiÃ³n de Oriente Medio y Norte de Ãfrica. En el Ã¡mbito del derecho de familia y la nacionalidad, el capÃtulo ofrece una visiÃ³n general de las discriminaciones legales que siguen obstaculizando la igualdad de la mujer con el hombre. En cuanto al acceso a la justicia y la violencia de gÃ©nero, muchos paÃses reconocen las cuestiones pendientes y se proponen abordar las lagunas restantes mediante agendas nacionales de reforma. Sin embargo, es necesario seguir actuando para permitir un acceso igualitario a la justicia y eliminar la violencia contra las mujeres, que parece ir en aumento tras las recientes revueltas en algunos paÃses de la regiÃ³n.   \n",
       "120                                                                                                                                                                                                                                                                                                                                                                                                                                                                                                                                                                                                                                  Además, desde 2011, se ha estado trabajando para desarrollar marcos de recursos integrados locales para la atención de la salud y la comunidad, que permiten a los sistemas locales cuantificar el uso de recursos en la atención social y de la salud entre las poblaciones (en lugar de las organizaciones) y realinear los recursos en consecuencia. El objetivo es realinear los recursos para ofrecer un mejor valor y una mejor atención centrada en el paciente. Hay una clara innovación en el uso de la infraestructura digital para capacitar a los profesionales de la salud para que estén equipados con las habilidades acordes con las necesidades del NHS.   \n",
       "154   También hay pagos relacionados con la colocación de personal de enfermería para la capacitación basada en estadías nocturnas para el apoyo a la independencia y la colocación de profesionales de la salud para los servicios de bienestar para discapacitados y hacen posible que las personas vivan en la comunidad mientras reciben apoyo relacionado con la salud. Se han establecido visitas de extensión de enfermería y servicios orientados a la comunidad en hospitales y clínicas privados para apoyar el alta temprana. También ha aumentado el número de guarderías psiquiátricas, clínicas ambulatorias psiquiátricas privadas e instalaciones de rehabilitación social. Además, el MHLW otorga subsidios para proyectos de “red de atención de salud mental infantil” implementados por la prefectura. Sin embargo, hay una escasez de hospitales centrales que se especialicen en la atención de la salud mental de los niños, con solo 21 hospitales con salas especializadas para niños y adolescentes en todo Japón. “Hikikomori”, un grupo identificado en Japón que generalmente se entiende como adolescentes solitarios o adultos jóvenes que se retiran de la vida social, a menudo buscando grados extremos de aislamiento y confinamiento, son motivo de especial preocupación.   \n",
       "\n",
       "      sdg  \n",
       "2089    5  \n",
       "120     3  \n",
       "154     3  "
      ]
     },
     "execution_count": 3,
     "metadata": {},
     "output_type": "execute_result"
    }
   ],
   "source": [
    "data.sample(3)"
   ]
  },
  {
   "cell_type": "code",
   "execution_count": 4,
   "metadata": {},
   "outputs": [
    {
     "name": "stdout",
     "output_type": "stream",
     "text": [
      "<class 'pandas.core.frame.DataFrame'>\n",
      "RangeIndex: 3000 entries, 0 to 2999\n",
      "Data columns (total 2 columns):\n",
      " #   Column          Non-Null Count  Dtype \n",
      "---  ------          --------------  ----- \n",
      " 0   Textos_espanol  3000 non-null   object\n",
      " 1   sdg             3000 non-null   int64 \n",
      "dtypes: int64(1), object(1)\n",
      "memory usage: 47.0+ KB\n"
     ]
    }
   ],
   "source": [
    "data.info()"
   ]
  },
  {
   "cell_type": "markdown",
   "metadata": {},
   "source": [
    "drop duplicated, dropna"
   ]
  },
  {
   "cell_type": "code",
   "execution_count": 33,
   "metadata": {},
   "outputs": [],
   "source": [
    "############################################################\n",
    "# Preprocesamiento Funciones: LIMPIEZA DE TEXTO\n",
    "############################################################\n",
    "\n",
    "def remove_non_ascii(words):\n",
    "    \"\"\"Remove non-ASCII characters from list of tokenized words\"\"\"\n",
    "    new_words = []\n",
    "    for word in words:\n",
    "        new_word = unicodedata.normalize('NFKD', word).encode('ascii', 'ignore').decode('utf-8', 'ignore')\n",
    "        new_words.append(new_word)\n",
    "    return new_words\n",
    "\n",
    "def to_lowercase(words):\n",
    "    \"\"\"Convert all characters to lowercase from list of tokenized words\"\"\"\n",
    "    new_words = []\n",
    "    for word in words:\n",
    "        new_word = word.lower()\n",
    "        new_words.append(new_word)\n",
    "    return new_words\n",
    "\n",
    "def remove_punctuation(words):\n",
    "    \"\"\"Remove punctuation from list of tokenized words\"\"\"\n",
    "    new_words = []\n",
    "    for word in words:\n",
    "        new_word = re.sub(r'[^\\w\\s]', '', word)\n",
    "        if new_word != '':\n",
    "            new_words.append(new_word)\n",
    "    return new_words\n",
    "\n",
    "def replace_numbers(words):\n",
    "    \"\"\"Replace all integer occurrences in list of tokenized words with textual representation in Spanish\"\"\"\n",
    "    new_words = []\n",
    "    for word in words:\n",
    "        if word.isdigit():\n",
    "            new_word = num2words(int(word), lang='es')\n",
    "            new_words.append(new_word)\n",
    "        else:\n",
    "            new_words.append(word)\n",
    "    return new_words\n",
    "\n",
    "def remove_stopwords(words):\n",
    "    \"\"\"Remove stop words from list of tokenized words\"\"\"\n",
    "    new_words = []\n",
    "    for word in words:\n",
    "        if word not in set(stopwords.words('spanish')):\n",
    "            new_words.append(word)\n",
    "    return new_words\n",
    "def join_words(words):\n",
    "    \"\"\"Join a list of words into a single string\"\"\"\n",
    "    return ' '.join(map(str, words))\n",
    "\n",
    "def preprocessing(words):\n",
    "    words = to_lowercase(words)\n",
    "    words = replace_numbers(words)\n",
    "    words = remove_punctuation(words)\n",
    "    words = remove_non_ascii(words)\n",
    "    words = remove_stopwords(words)\n",
    "    words = join_words(words)\n",
    "    return words\n",
    "\n",
    "############################################################\n",
    "# Preprocesamiento Funciones: LEMATIZACIÓN\n",
    "############################################################\n",
    "def stem_words(text):\n",
    "    \"\"\"Stem words in a text (Spanish)\"\"\"\n",
    "    stemmer = SnowballStemmer(\"spanish\")\n",
    "    words = word_tokenize(text, language=\"spanish\")\n",
    "    stems = [stemmer.stem(word) for word in words]\n",
    "    return stems\n",
    "def lemmatize_verbs(text):\n",
    "    \"\"\"Lemmatize verbs in text (Spanish)\"\"\"\n",
    "    nlp = spacy.load(\"es_core_news_sm\")\n",
    "    doc = nlp(text)\n",
    "    lemmas = [token.lemma_ if token.pos_ == \"VERB\" else token.text for token in doc]\n",
    "    return lemmas\n",
    "\n",
    "def stem_and_lemmatize(words):\n",
    "    stems = stem_words(words)\n",
    "    lemmas = lemmatize_verbs(words)\n",
    "    return stems + lemmas\n",
    "\n",
    "def lemmatize_all_words(text):\n",
    "    \"\"\"Lemmatize all words in a list (Spanish)\"\"\"\n",
    "    nlp = spacy.load(\"es_core_news_sm\")\n",
    "    doc = nlp(text)\n",
    "    lemmas = [token.lemma_ for token in doc]\n",
    "    return join_words(lemmas)\n"
   ]
  },
  {
   "cell_type": "code",
   "execution_count": 57,
   "metadata": {},
   "outputs": [],
   "source": [
    "data_petit = data.sample(20)\n",
    "data_petit.reset_index(drop=True, inplace=True)"
   ]
  },
  {
   "cell_type": "code",
   "execution_count": 58,
   "metadata": {},
   "outputs": [
    {
     "data": {
      "text/html": [
       "<div>\n",
       "<style scoped>\n",
       "    .dataframe tbody tr th:only-of-type {\n",
       "        vertical-align: middle;\n",
       "    }\n",
       "\n",
       "    .dataframe tbody tr th {\n",
       "        vertical-align: top;\n",
       "    }\n",
       "\n",
       "    .dataframe thead th {\n",
       "        text-align: right;\n",
       "    }\n",
       "</style>\n",
       "<table border=\"1\" class=\"dataframe\">\n",
       "  <thead>\n",
       "    <tr style=\"text-align: right;\">\n",
       "      <th></th>\n",
       "      <th>Textos_espanol</th>\n",
       "      <th>sdg</th>\n",
       "    </tr>\n",
       "  </thead>\n",
       "  <tbody>\n",
       "    <tr>\n",
       "      <th>0</th>\n",
       "      <td>Dado que los participantes tuvieron un amplio grado de libertad para diseñar sus estrategias, la variabilidad permite extraer varias lecciones preliminares. Tras analizar las medidas de desarrollo profesional aplicadas por los equipos participantes en el proyecto, se destacan las principales lecciones extraídas de los planes de desarrollo profesional del profesorado aplicados por los equipos de los países para ayudar a los profesores participantes a fomentar la creatividad y el pensamiento crítico de sus alumnos. Como mínimo, los equipos debían presentar a los profesores los materiales del proyecto, los objetivos y los enfoques pedagógicos sugeridos organizando una sesión de formación inicial de un día de duración al inicio del proyecto.</td>\n",
       "      <td>4</td>\n",
       "    </tr>\n",
       "  </tbody>\n",
       "</table>\n",
       "</div>"
      ],
      "text/plain": [
       "                                                                                                                                                                                                                                                                                                                                                                                                                                                                                                                                                                                                                                                                                                                                                                Textos_espanol  \\\n",
       "0  Dado que los participantes tuvieron un amplio grado de libertad para diseñar sus estrategias, la variabilidad permite extraer varias lecciones preliminares. Tras analizar las medidas de desarrollo profesional aplicadas por los equipos participantes en el proyecto, se destacan las principales lecciones extraídas de los planes de desarrollo profesional del profesorado aplicados por los equipos de los países para ayudar a los profesores participantes a fomentar la creatividad y el pensamiento crítico de sus alumnos. Como mínimo, los equipos debían presentar a los profesores los materiales del proyecto, los objetivos y los enfoques pedagógicos sugeridos organizando una sesión de formación inicial de un día de duración al inicio del proyecto.   \n",
       "\n",
       "   sdg  \n",
       "0    4  "
      ]
     },
     "execution_count": 58,
     "metadata": {},
     "output_type": "execute_result"
    }
   ],
   "source": [
    "data_petit.head(1)"
   ]
  },
  {
   "cell_type": "code",
   "execution_count": 51,
   "metadata": {},
   "outputs": [
    {
     "data": {
      "text/plain": [
       "Index(['Textos_espanol', 'sdg'], dtype='object')"
      ]
     },
     "execution_count": 51,
     "metadata": {},
     "output_type": "execute_result"
    }
   ],
   "source": [
    "data_petit.columns"
   ]
  },
  {
   "cell_type": "code",
   "execution_count": 59,
   "metadata": {},
   "outputs": [
    {
     "data": {
      "application/vnd.jupyter.widget-view+json": {
       "model_id": "fd186dfeb709441c95b2552a38ae8df0",
       "version_major": 2,
       "version_minor": 0
      },
      "text/plain": [
       "Pandas Apply:   0%|          | 0/20 [00:00<?, ?it/s]"
      ]
     },
     "metadata": {},
     "output_type": "display_data"
    },
    {
     "data": {
      "application/vnd.jupyter.widget-view+json": {
       "model_id": "539777312f284faea866f4d9d74972c9",
       "version_major": 2,
       "version_minor": 0
      },
      "text/plain": [
       "Pandas Apply:   0%|          | 0/20 [00:00<?, ?it/s]"
      ]
     },
     "metadata": {},
     "output_type": "display_data"
    }
   ],
   "source": [
    "data_petit['texto_limpio'] = data_petit['Textos_espanol'].swifter.apply(word_tokenize,language=\"spanish\").swifter.apply(preprocessing)"
   ]
  },
  {
   "cell_type": "code",
   "execution_count": 60,
   "metadata": {},
   "outputs": [
    {
     "data": {
      "text/html": [
       "<div>\n",
       "<style scoped>\n",
       "    .dataframe tbody tr th:only-of-type {\n",
       "        vertical-align: middle;\n",
       "    }\n",
       "\n",
       "    .dataframe tbody tr th {\n",
       "        vertical-align: top;\n",
       "    }\n",
       "\n",
       "    .dataframe thead th {\n",
       "        text-align: right;\n",
       "    }\n",
       "</style>\n",
       "<table border=\"1\" class=\"dataframe\">\n",
       "  <thead>\n",
       "    <tr style=\"text-align: right;\">\n",
       "      <th></th>\n",
       "      <th>Textos_espanol</th>\n",
       "      <th>sdg</th>\n",
       "      <th>texto_limpio</th>\n",
       "    </tr>\n",
       "  </thead>\n",
       "  <tbody>\n",
       "    <tr>\n",
       "      <th>0</th>\n",
       "      <td>Dado que los participantes tuvieron un amplio grado de libertad para diseñar sus estrategias, la variabilidad permite extraer varias lecciones preliminares. Tras analizar las medidas de desarrollo profesional aplicadas por los equipos participantes en el proyecto, se destacan las principales lecciones extraídas de los planes de desarrollo profesional del profesorado aplicados por los equipos de los países para ayudar a los profesores participantes a fomentar la creatividad y el pensamiento crítico de sus alumnos. Como mínimo, los equipos debían presentar a los profesores los materiales del proyecto, los objetivos y los enfoques pedagógicos sugeridos organizando una sesión de formación inicial de un día de duración al inicio del proyecto.</td>\n",
       "      <td>4</td>\n",
       "      <td>dado participantes amplio grado libertad disenar estrategias variabilidad permite extraer varias lecciones preliminares tras analizar medidas desarrollo profesional aplicadas equipos participantes proyecto destacan principales lecciones extraidas planes desarrollo profesional profesorado aplicados equipos paises ayudar profesores participantes fomentar creatividad pensamiento critico alumnos minimo equipos debian presentar profesores materiales proyecto objetivos enfoques pedagogicos sugeridos organizando sesion formacion inicial dia duracion inicio proyecto</td>\n",
       "    </tr>\n",
       "  </tbody>\n",
       "</table>\n",
       "</div>"
      ],
      "text/plain": [
       "                                                                                                                                                                                                                                                                                                                                                                                                                                                                                                                                                                                                                                                                                                                                                                Textos_espanol  \\\n",
       "0  Dado que los participantes tuvieron un amplio grado de libertad para diseñar sus estrategias, la variabilidad permite extraer varias lecciones preliminares. Tras analizar las medidas de desarrollo profesional aplicadas por los equipos participantes en el proyecto, se destacan las principales lecciones extraídas de los planes de desarrollo profesional del profesorado aplicados por los equipos de los países para ayudar a los profesores participantes a fomentar la creatividad y el pensamiento crítico de sus alumnos. Como mínimo, los equipos debían presentar a los profesores los materiales del proyecto, los objetivos y los enfoques pedagógicos sugeridos organizando una sesión de formación inicial de un día de duración al inicio del proyecto.   \n",
       "\n",
       "   sdg  \\\n",
       "0    4   \n",
       "\n",
       "                                                                                                                                                                                                                                                                                                                                                                                                                                                                                                                                                                           texto_limpio  \n",
       "0  dado participantes amplio grado libertad disenar estrategias variabilidad permite extraer varias lecciones preliminares tras analizar medidas desarrollo profesional aplicadas equipos participantes proyecto destacan principales lecciones extraidas planes desarrollo profesional profesorado aplicados equipos paises ayudar profesores participantes fomentar creatividad pensamiento critico alumnos minimo equipos debian presentar profesores materiales proyecto objetivos enfoques pedagogicos sugeridos organizando sesion formacion inicial dia duracion inicio proyecto  "
      ]
     },
     "execution_count": 60,
     "metadata": {},
     "output_type": "execute_result"
    }
   ],
   "source": [
    "data_petit.head(1)"
   ]
  },
  {
   "cell_type": "code",
   "execution_count": 61,
   "metadata": {},
   "outputs": [
    {
     "data": {
      "application/vnd.jupyter.widget-view+json": {
       "model_id": "964489c685a7450ab764f9b45342d4f7",
       "version_major": 2,
       "version_minor": 0
      },
      "text/plain": [
       "Pandas Apply:   0%|          | 0/20 [00:00<?, ?it/s]"
      ]
     },
     "metadata": {},
     "output_type": "display_data"
    },
    {
     "data": {
      "application/vnd.jupyter.widget-view+json": {
       "model_id": "77f2791427c54daf9a92914f7ceb3848",
       "version_major": 2,
       "version_minor": 0
      },
      "text/plain": [
       "Pandas Apply:   0%|          | 0/20 [00:00<?, ?it/s]"
      ]
     },
     "metadata": {},
     "output_type": "display_data"
    }
   ],
   "source": [
    "data_petit['texto_limpio'] = data_petit['texto_limpio'].swifter.apply(stem_and_lemmatize).swifter.apply(join_words)\n",
    "# data_petit['texto_limpio'] = data_petit['texto_limpio'].swifter.apply(lemmatize_all_words)"
   ]
  },
  {
   "cell_type": "code",
   "execution_count": 62,
   "metadata": {},
   "outputs": [
    {
     "data": {
      "text/html": [
       "<div>\n",
       "<style scoped>\n",
       "    .dataframe tbody tr th:only-of-type {\n",
       "        vertical-align: middle;\n",
       "    }\n",
       "\n",
       "    .dataframe tbody tr th {\n",
       "        vertical-align: top;\n",
       "    }\n",
       "\n",
       "    .dataframe thead th {\n",
       "        text-align: right;\n",
       "    }\n",
       "</style>\n",
       "<table border=\"1\" class=\"dataframe\">\n",
       "  <thead>\n",
       "    <tr style=\"text-align: right;\">\n",
       "      <th></th>\n",
       "      <th>Textos_espanol</th>\n",
       "      <th>sdg</th>\n",
       "      <th>texto_limpio</th>\n",
       "    </tr>\n",
       "  </thead>\n",
       "  <tbody>\n",
       "    <tr>\n",
       "      <th>0</th>\n",
       "      <td>Dado que los participantes tuvieron un amplio grado de libertad para diseñar sus estrategias, la variabilidad permite extraer varias lecciones preliminares. Tras analizar las medidas de desarrollo profesional aplicadas por los equipos participantes en el proyecto, se destacan las principales lecciones extraídas de los planes de desarrollo profesional del profesorado aplicados por los equipos de los países para ayudar a los profesores participantes a fomentar la creatividad y el pensamiento crítico de sus alumnos. Como mínimo, los equipos debían presentar a los profesores los materiales del proyecto, los objetivos y los enfoques pedagógicos sugeridos organizando una sesión de formación inicial de un día de duración al inicio del proyecto.</td>\n",
       "      <td>4</td>\n",
       "      <td>dad particip ampli grad libert disen estrategi variabil permit extra vari leccion preliminar tras analiz med desarroll profesional aplic equip particip proyect destac principal leccion extra plan desarroll profesional profesor aplic equip pais ayud profesor particip foment creativ pensamient critic alumn minim equip debi present profesor material proyect objet enfoqu pedagog suger organiz sesion formacion inicial dia duracion inici proyect dar participantes amplio grado libertad disenar estrategias variabilidad permitir extraer varias lecciones preliminares tras analizar medidas desarrollo profesional aplicadas equipos participantes proyecto destacar principales lecciones extraidas planes desarrollo profesional profesorado aplicados equipos paises ayudar profesores participantes fomentar creatividad pensamiento critico alumnos minimo equipos debiar presentar profesores materiales proyecto objetivos enfoques pedagogicos sugeridos organizar sesion formacion inicial diar duracion inicio proyecto</td>\n",
       "    </tr>\n",
       "  </tbody>\n",
       "</table>\n",
       "</div>"
      ],
      "text/plain": [
       "                                                                                                                                                                                                                                                                                                                                                                                                                                                                                                                                                                                                                                                                                                                                                                Textos_espanol  \\\n",
       "0  Dado que los participantes tuvieron un amplio grado de libertad para diseñar sus estrategias, la variabilidad permite extraer varias lecciones preliminares. Tras analizar las medidas de desarrollo profesional aplicadas por los equipos participantes en el proyecto, se destacan las principales lecciones extraídas de los planes de desarrollo profesional del profesorado aplicados por los equipos de los países para ayudar a los profesores participantes a fomentar la creatividad y el pensamiento crítico de sus alumnos. Como mínimo, los equipos debían presentar a los profesores los materiales del proyecto, los objetivos y los enfoques pedagógicos sugeridos organizando una sesión de formación inicial de un día de duración al inicio del proyecto.   \n",
       "\n",
       "   sdg  \\\n",
       "0    4   \n",
       "\n",
       "                                                                                                                                                                                                                                                                                                                                                                                                                                                                                                                                                                                                                                                                                                                                                                                                                                                                                                                                                                                                                                      texto_limpio  \n",
       "0  dad particip ampli grad libert disen estrategi variabil permit extra vari leccion preliminar tras analiz med desarroll profesional aplic equip particip proyect destac principal leccion extra plan desarroll profesional profesor aplic equip pais ayud profesor particip foment creativ pensamient critic alumn minim equip debi present profesor material proyect objet enfoqu pedagog suger organiz sesion formacion inicial dia duracion inici proyect dar participantes amplio grado libertad disenar estrategias variabilidad permitir extraer varias lecciones preliminares tras analizar medidas desarrollo profesional aplicadas equipos participantes proyecto destacar principales lecciones extraidas planes desarrollo profesional profesorado aplicados equipos paises ayudar profesores participantes fomentar creatividad pensamiento critico alumnos minimo equipos debiar presentar profesores materiales proyecto objetivos enfoques pedagogicos sugeridos organizar sesion formacion inicial diar duracion inicio proyecto  "
      ]
     },
     "execution_count": 62,
     "metadata": {},
     "output_type": "execute_result"
    }
   ],
   "source": [
    "data_petit.head(1)"
   ]
  }
 ],
 "metadata": {
  "kernelspec": {
   "display_name": "Python 3",
   "language": "python",
   "name": "python3"
  },
  "language_info": {
   "codemirror_mode": {
    "name": "ipython",
    "version": 3
   },
   "file_extension": ".py",
   "mimetype": "text/x-python",
   "name": "python",
   "nbconvert_exporter": "python",
   "pygments_lexer": "ipython3",
   "version": "3.10.5"
  }
 },
 "nbformat": 4,
 "nbformat_minor": 2
}
