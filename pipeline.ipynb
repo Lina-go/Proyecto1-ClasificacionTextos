{
 "cells": [
  {
   "cell_type": "code",
   "execution_count": 59,
   "metadata": {},
   "outputs": [],
   "source": [
    "import pandas as pd\n",
    "pd.set_option('display.max_colwidth', None)\n",
    "\n",
    "from sklearn.model_selection import train_test_split\n",
    "from sklearn.metrics import classification_report\n",
    "\n",
    "from sklearn.pipeline import Pipeline\n",
    "\n",
    "from nltk.stem import SnowballStemmer\n",
    "import spacy\n",
    "import re, unicodedata\n",
    "\n",
    "from nltk.tokenize import word_tokenize\n",
    "from nltk.corpus import stopwords\n",
    "from num2words import num2words\n",
    "\n",
    "from sklearn.feature_extraction.text import TfidfVectorizer\n",
    "\n",
    "import swifter\n",
    "\n",
    "from joblib import dump, load"
   ]
  },
  {
   "cell_type": "code",
   "execution_count": 14,
   "metadata": {},
   "outputs": [],
   "source": [
    "data = pd.read_excel(\"data/cat_345.xlsx\")"
   ]
  },
  {
   "cell_type": "code",
   "execution_count": 17,
   "metadata": {},
   "outputs": [
    {
     "name": "stdout",
     "output_type": "stream",
     "text": [
      "Total de filas en entrenamiento 2400 y test 600\n"
     ]
    }
   ],
   "source": [
    "Y = data['sdg']\n",
    "X = data.drop(['sdg'], axis=1)\n",
    "X_train, X_test, Y_train, Y_test = train_test_split(X, Y, test_size=0.2, random_state=1234, stratify=Y)\n",
    "print(f\"Total de filas en entrenamiento {X_train.shape[0]} y test {X_test.shape[0]}\")"
   ]
  },
  {
   "cell_type": "code",
   "execution_count": 12,
   "metadata": {},
   "outputs": [],
   "source": [
    "X_train_clean = pd.read_excel(\"data2/cat_345_clean_con_lema.xlsx\")\n",
    "X_test_clean = pd.read_excel(\"data2/cat_345_clean_con_lema_test.xlsx\")"
   ]
  },
  {
   "cell_type": "code",
   "execution_count": 11,
   "metadata": {},
   "outputs": [],
   "source": [
    "def tokenizer(text):\n",
    "    return word_tokenize(text, language=\"spanish\")"
   ]
  },
  {
   "cell_type": "code",
   "execution_count": 36,
   "metadata": {},
   "outputs": [
    {
     "name": "stderr",
     "output_type": "stream",
     "text": [
      "c:\\Python310\\lib\\site-packages\\sklearn\\feature_extraction\\text.py:528: UserWarning: The parameter 'token_pattern' will not be used since 'tokenizer' is not None'\n",
      "  warnings.warn(\n"
     ]
    }
   ],
   "source": [
    "vectorizer = TfidfVectorizer(\n",
    "        sublinear_tf=True, max_df=0.5, min_df=5, stop_words=stopwords.words('spanish'), tokenizer=tokenizer\n",
    "    )\n",
    "X_train_TFID = vectorizer.fit_transform(X_train_clean['texto_limpio'])\n",
    "X_test_TFID = vectorizer.transform(X_test_clean['texto_limpio'])"
   ]
  },
  {
   "cell_type": "markdown",
   "metadata": {},
   "source": [
    "## Importation of the best model which is already trained"
   ]
  },
  {
   "cell_type": "code",
   "execution_count": 38,
   "metadata": {},
   "outputs": [],
   "source": [
    "best_model = load('best_model.joblib')"
   ]
  },
  {
   "cell_type": "code",
   "execution_count": 40,
   "metadata": {},
   "outputs": [
    {
     "name": "stdout",
     "output_type": "stream",
     "text": [
      "              precision    recall  f1-score   support\n",
      "\n",
      "           3       1.00      1.00      1.00       800\n",
      "           4       1.00      1.00      1.00       800\n",
      "           5       1.00      1.00      1.00       800\n",
      "\n",
      "    accuracy                           1.00      2400\n",
      "   macro avg       1.00      1.00      1.00      2400\n",
      "weighted avg       1.00      1.00      1.00      2400\n",
      "\n"
     ]
    }
   ],
   "source": [
    "y_train_pred = best_model.predict(X_train_TFID)\n",
    "print(classification_report(Y_train, y_train_pred))"
   ]
  },
  {
   "cell_type": "code",
   "execution_count": 41,
   "metadata": {},
   "outputs": [
    {
     "name": "stdout",
     "output_type": "stream",
     "text": [
      "              precision    recall  f1-score   support\n",
      "\n",
      "           3       0.98      0.97      0.98       200\n",
      "           4       0.97      0.99      0.98       200\n",
      "           5       0.98      0.98      0.98       200\n",
      "\n",
      "    accuracy                           0.98       600\n",
      "   macro avg       0.98      0.98      0.98       600\n",
      "weighted avg       0.98      0.98      0.98       600\n",
      "\n"
     ]
    }
   ],
   "source": [
    "y_test_pred = best_model.predict(X_test_TFID)\n",
    "print(classification_report(Y_test, y_test_pred))"
   ]
  },
  {
   "cell_type": "code",
   "execution_count": 43,
   "metadata": {},
   "outputs": [
    {
     "data": {
      "text/plain": [
       "684     3\n",
       "2562    5\n",
       "2521    5\n",
       "1250    4\n",
       "2410    5\n",
       "       ..\n",
       "2323    5\n",
       "2115    5\n",
       "1378    4\n",
       "1833    4\n",
       "1330    4\n",
       "Name: sdg, Length: 600, dtype: int64"
      ]
     },
     "execution_count": 43,
     "metadata": {},
     "output_type": "execute_result"
    }
   ],
   "source": [
    "Y_test"
   ]
  },
  {
   "cell_type": "code",
   "execution_count": 44,
   "metadata": {},
   "outputs": [
    {
     "data": {
      "text/plain": [
       "array([3, 5, 5, 4, 5, 5, 5, 4, 3, 3, 3, 4, 4, 5, 5, 5, 5, 4, 4, 4, 3, 4,\n",
       "       4, 3, 4, 5, 3, 4, 5, 4, 5, 3, 4, 3, 3, 3, 4, 5, 3, 4, 5, 5, 3, 5,\n",
       "       3, 4, 5, 5, 4, 5, 4, 5, 4, 3, 4, 4, 4, 4, 5, 4, 5, 5, 5, 5, 4, 4,\n",
       "       4, 3, 4, 4, 5, 3, 4, 4, 4, 5, 5, 3, 4, 5, 3, 5, 3, 3, 4, 3, 5, 5,\n",
       "       4, 4, 5, 4, 3, 5, 3, 5, 3, 3, 3, 3, 4, 3, 4, 4, 3, 4, 3, 4, 5, 5,\n",
       "       3, 3, 3, 5, 4, 4, 3, 5, 3, 4, 5, 4, 5, 4, 5, 5, 4, 3, 5, 4, 5, 5,\n",
       "       5, 3, 3, 4, 5, 3, 4, 5, 3, 4, 4, 5, 3, 4, 4, 3, 5, 5, 3, 3, 5, 5,\n",
       "       3, 4, 5, 5, 4, 4, 3, 4, 5, 5, 4, 3, 4, 4, 3, 5, 5, 4, 5, 3, 3, 3,\n",
       "       5, 5, 3, 5, 4, 5, 5, 5, 4, 3, 5, 4, 4, 3, 4, 4, 3, 4, 4, 3, 3, 5,\n",
       "       5, 3, 5, 3, 4, 3, 4, 3, 4, 3, 5, 4, 4, 4, 5, 5, 4, 5, 5, 4, 5, 4,\n",
       "       5, 5, 5, 3, 4, 5, 5, 4, 5, 5, 4, 5, 3, 4, 3, 3, 5, 3, 3, 5, 4, 3,\n",
       "       5, 4, 3, 4, 3, 4, 5, 3, 5, 3, 4, 4, 5, 3, 3, 5, 4, 5, 5, 3, 4, 3,\n",
       "       3, 3, 3, 5, 5, 5, 5, 5, 5, 5, 3, 3, 3, 4, 4, 4, 3, 4, 3, 4, 5, 4,\n",
       "       4, 5, 5, 5, 5, 5, 3, 5, 5, 4, 5, 3, 5, 3, 3, 5, 5, 3, 3, 4, 3, 4,\n",
       "       5, 5, 4, 3, 3, 3, 5, 4, 4, 3, 3, 5, 5, 4, 4, 3, 5, 5, 4, 3, 3, 5,\n",
       "       3, 4, 5, 4, 5, 4, 4, 3, 5, 3, 4, 4, 4, 5, 4, 5, 5, 4, 4, 4, 3, 5,\n",
       "       4, 4, 3, 4, 5, 3, 4, 3, 3, 4, 3, 5, 4, 4, 5, 4, 3, 3, 5, 4, 4, 5,\n",
       "       4, 4, 4, 3, 3, 5, 4, 5, 4, 3, 4, 3, 4, 5, 3, 3, 3, 3, 4, 4, 4, 3,\n",
       "       5, 3, 3, 5, 4, 5, 3, 5, 4, 5, 4, 3, 4, 5, 5, 5, 5, 3, 3, 5, 3, 3,\n",
       "       4, 4, 3, 5, 4, 5, 5, 4, 5, 4, 4, 3, 3, 5, 3, 3, 3, 4, 5, 5, 4, 4,\n",
       "       3, 4, 3, 3, 5, 4, 3, 4, 4, 5, 5, 4, 3, 5, 4, 3, 3, 3, 5, 5, 5, 3,\n",
       "       4, 4, 3, 4, 3, 3, 3, 4, 4, 4, 4, 3, 3, 4, 5, 3, 5, 5, 5, 3, 3, 3,\n",
       "       4, 5, 3, 3, 3, 4, 3, 4, 4, 4, 4, 4, 3, 3, 5, 5, 3, 4, 4, 5, 5, 3,\n",
       "       5, 4, 3, 5, 4, 5, 5, 3, 3, 5, 3, 5, 4, 3, 4, 4, 3, 3, 4, 3, 5, 4,\n",
       "       5, 4, 5, 5, 4, 5, 5, 3, 3, 5, 3, 4, 3, 4, 5, 4, 4, 5, 4, 4, 3, 5,\n",
       "       3, 4, 5, 4, 5, 3, 3, 4, 3, 3, 4, 5, 3, 4, 3, 4, 3, 3, 5, 4, 4, 3,\n",
       "       4, 5, 3, 5, 3, 5, 3, 3, 3, 5, 4, 3, 3, 3, 3, 4, 3, 5, 3, 3, 5, 5,\n",
       "       5, 5, 5, 4, 4, 4], dtype=int64)"
      ]
     },
     "execution_count": 44,
     "metadata": {},
     "output_type": "execute_result"
    }
   ],
   "source": [
    "y_test_pred"
   ]
  },
  {
   "cell_type": "code",
   "execution_count": 46,
   "metadata": {},
   "outputs": [
    {
     "data": {
      "text/html": [
       "<div>\n",
       "<style scoped>\n",
       "    .dataframe tbody tr th:only-of-type {\n",
       "        vertical-align: middle;\n",
       "    }\n",
       "\n",
       "    .dataframe tbody tr th {\n",
       "        vertical-align: top;\n",
       "    }\n",
       "\n",
       "    .dataframe thead th {\n",
       "        text-align: right;\n",
       "    }\n",
       "</style>\n",
       "<table border=\"1\" class=\"dataframe\">\n",
       "  <thead>\n",
       "    <tr style=\"text-align: right;\">\n",
       "      <th></th>\n",
       "      <th>Textos_espanol</th>\n",
       "    </tr>\n",
       "  </thead>\n",
       "  <tbody>\n",
       "    <tr>\n",
       "      <th>684</th>\n",
       "      <td>El centro, ubicado en el Hospital Universitario de Dakar, también ofrece un programa de mantenimiento con metadona, servicios de tratamiento de la drogodependencia, programas de extensión y programas para el tratamiento de la infección por el VIH y la hepatitis para consumidores de drogas. Cabo Verde está poniendo a prueba una “ventanilla única” para drogadictos, un centro que ofrece múltiples servicios de tratamiento por abuso de drogas en un barrio vulnerable de la ciudad capital de Praia, promoviendo la implementación de un enfoque de tratamiento basado en la comunidad. En Kenia, después de que se abriera un centro de tratamiento de sustitución de opiáceos (conocido localmente como clínica de terapia médicamente asistida) en Nairobi en diciembre de 2014, se abrió un segundo centro en Malindi en febrero de 2015 y otros dos en Mombasa en septiembre de 2015.</td>\n",
       "    </tr>\n",
       "  </tbody>\n",
       "</table>\n",
       "</div>"
      ],
      "text/plain": [
       "                                                                                                                                                                                                                                                                                                                                                                                                                                                                                                                                                                                                                                                                                                                                                                                                                                                                                             Textos_espanol\n",
       "684  El centro, ubicado en el Hospital Universitario de Dakar, también ofrece un programa de mantenimiento con metadona, servicios de tratamiento de la drogodependencia, programas de extensión y programas para el tratamiento de la infección por el VIH y la hepatitis para consumidores de drogas. Cabo Verde está poniendo a prueba una “ventanilla única” para drogadictos, un centro que ofrece múltiples servicios de tratamiento por abuso de drogas en un barrio vulnerable de la ciudad capital de Praia, promoviendo la implementación de un enfoque de tratamiento basado en la comunidad. En Kenia, después de que se abriera un centro de tratamiento de sustitución de opiáceos (conocido localmente como clínica de terapia médicamente asistida) en Nairobi en diciembre de 2014, se abrió un segundo centro en Malindi en febrero de 2015 y otros dos en Mombasa en septiembre de 2015."
      ]
     },
     "execution_count": 46,
     "metadata": {},
     "output_type": "execute_result"
    }
   ],
   "source": [
    "X_test.head(1)"
   ]
  },
  {
   "cell_type": "code",
   "execution_count": 47,
   "metadata": {},
   "outputs": [
    {
     "data": {
      "text/html": [
       "<div>\n",
       "<style scoped>\n",
       "    .dataframe tbody tr th:only-of-type {\n",
       "        vertical-align: middle;\n",
       "    }\n",
       "\n",
       "    .dataframe tbody tr th {\n",
       "        vertical-align: top;\n",
       "    }\n",
       "\n",
       "    .dataframe thead th {\n",
       "        text-align: right;\n",
       "    }\n",
       "</style>\n",
       "<table border=\"1\" class=\"dataframe\">\n",
       "  <thead>\n",
       "    <tr style=\"text-align: right;\">\n",
       "      <th></th>\n",
       "      <th>Unnamed: 0</th>\n",
       "      <th>Textos_espanol</th>\n",
       "      <th>texto_limpio</th>\n",
       "    </tr>\n",
       "  </thead>\n",
       "  <tbody>\n",
       "    <tr>\n",
       "      <th>0</th>\n",
       "      <td>684</td>\n",
       "      <td>El centro, ubicado en el Hospital Universitario de Dakar, también ofrece un programa de mantenimiento con metadona, servicios de tratamiento de la drogodependencia, programas de extensión y programas para el tratamiento de la infección por el VIH y la hepatitis para consumidores de drogas. Cabo Verde está poniendo a prueba una “ventanilla única” para drogadictos, un centro que ofrece múltiples servicios de tratamiento por abuso de drogas en un barrio vulnerable de la ciudad capital de Praia, promoviendo la implementación de un enfoque de tratamiento basado en la comunidad. En Kenia, después de que se abriera un centro de tratamiento de sustitución de opiáceos (conocido localmente como clínica de terapia médicamente asistida) en Nairobi en diciembre de 2014, se abrió un segundo centro en Malindi en febrero de 2015 y otros dos en Mombasa en septiembre de 2015.</td>\n",
       "      <td>centr ubic hospital universitari dak tambi ofrec program manten metadon servici tratamient drogodependent program extension program tratamient infeccion vih hepatitis consumidor drog cab verd pon prueb ventanill unic drogadict centr ofrec multipl servici tratamient abus drog barri vulner ciud capital prai promov implement enfoqu tratamient bas comun keni despu abrier centr tratamient sustitucion opiace conoc local clinic terapi medic asist nairobi diciembr dos mil catorc abri segund centr malindi febrer dos mil quinc dos mombas septiembr dos mil quinc centro ubicado hospital universitario dakar tambien ofrecer programa mantenimiento metadona servicios tratamiento drogodependenciar programas extension programas tratamiento infeccion vih hepatitis consumidores drogas cabo verde poner prueba ventanilla unicar drogadictos centro ofrecer multiples servicios tratamiento abuso drogas barrio vulnerable ciudad capital praia promover implementacion enfoque tratamiento basado comunidad kenia despues abriera centro tratamiento sustitucion opiaceos conocido localmente clinica terapia medicamente asistida nairobi diciembre dos mil catorce abrio segundo centro malindi febrero dos mil quince dos mombasa septiembre dos mil quince</td>\n",
       "    </tr>\n",
       "  </tbody>\n",
       "</table>\n",
       "</div>"
      ],
      "text/plain": [
       "   Unnamed: 0  \\\n",
       "0         684   \n",
       "\n",
       "                                                                                                                                                                                                                                                                                                                                                                                                                                                                                                                                                                                                                                                                                                                                                                                                                                                                                           Textos_espanol  \\\n",
       "0  El centro, ubicado en el Hospital Universitario de Dakar, también ofrece un programa de mantenimiento con metadona, servicios de tratamiento de la drogodependencia, programas de extensión y programas para el tratamiento de la infección por el VIH y la hepatitis para consumidores de drogas. Cabo Verde está poniendo a prueba una “ventanilla única” para drogadictos, un centro que ofrece múltiples servicios de tratamiento por abuso de drogas en un barrio vulnerable de la ciudad capital de Praia, promoviendo la implementación de un enfoque de tratamiento basado en la comunidad. En Kenia, después de que se abriera un centro de tratamiento de sustitución de opiáceos (conocido localmente como clínica de terapia médicamente asistida) en Nairobi en diciembre de 2014, se abrió un segundo centro en Malindi en febrero de 2015 y otros dos en Mombasa en septiembre de 2015.   \n",
       "\n",
       "                                                                                                                                                                                                                                                                                                                                                                                                                                                                                                                                                                                                                                                                                                                                                                                                                                                                                                                                                                                                                                                                                                                                                                                                                                                                       texto_limpio  \n",
       "0  centr ubic hospital universitari dak tambi ofrec program manten metadon servici tratamient drogodependent program extension program tratamient infeccion vih hepatitis consumidor drog cab verd pon prueb ventanill unic drogadict centr ofrec multipl servici tratamient abus drog barri vulner ciud capital prai promov implement enfoqu tratamient bas comun keni despu abrier centr tratamient sustitucion opiace conoc local clinic terapi medic asist nairobi diciembr dos mil catorc abri segund centr malindi febrer dos mil quinc dos mombas septiembr dos mil quinc centro ubicado hospital universitario dakar tambien ofrecer programa mantenimiento metadona servicios tratamiento drogodependenciar programas extension programas tratamiento infeccion vih hepatitis consumidores drogas cabo verde poner prueba ventanilla unicar drogadictos centro ofrecer multiples servicios tratamiento abuso drogas barrio vulnerable ciudad capital praia promover implementacion enfoque tratamiento basado comunidad kenia despues abriera centro tratamiento sustitucion opiaceos conocido localmente clinica terapia medicamente asistida nairobi diciembre dos mil catorce abrio segundo centro malindi febrero dos mil quince dos mombasa septiembre dos mil quince  "
      ]
     },
     "execution_count": 47,
     "metadata": {},
     "output_type": "execute_result"
    }
   ],
   "source": [
    "X_test_clean.head(1)"
   ]
  },
  {
   "cell_type": "markdown",
   "metadata": {},
   "source": [
    "## Pipeline creation"
   ]
  },
  {
   "cell_type": "code",
   "execution_count": 42,
   "metadata": {},
   "outputs": [],
   "source": [
    "pipe = Pipeline([\n",
    "    ('Vectorizer', vectorizer),\n",
    "    ('Ridge Classifier', best_model)\n",
    "])"
   ]
  },
  {
   "cell_type": "code",
   "execution_count": 61,
   "metadata": {},
   "outputs": [
    {
     "data": {
      "text/plain": [
       "['thePipeline.joblib']"
      ]
     },
     "execution_count": 61,
     "metadata": {},
     "output_type": "execute_result"
    }
   ],
   "source": [
    "dump(pipe, 'thePipeline.joblib')"
   ]
  },
  {
   "cell_type": "code",
   "execution_count": 57,
   "metadata": {},
   "outputs": [],
   "source": [
    "text = ['escuel centro educ']"
   ]
  },
  {
   "cell_type": "code",
   "execution_count": 58,
   "metadata": {},
   "outputs": [
    {
     "data": {
      "text/plain": [
       "array([4], dtype=int64)"
      ]
     },
     "execution_count": 58,
     "metadata": {},
     "output_type": "execute_result"
    }
   ],
   "source": [
    "pipe.predict(text)"
   ]
  }
 ],
 "metadata": {
  "kernelspec": {
   "display_name": "Python 3",
   "language": "python",
   "name": "python3"
  },
  "language_info": {
   "codemirror_mode": {
    "name": "ipython",
    "version": 3
   },
   "file_extension": ".py",
   "mimetype": "text/x-python",
   "name": "python",
   "nbconvert_exporter": "python",
   "pygments_lexer": "ipython3",
   "version": "3.10.5"
  }
 },
 "nbformat": 4,
 "nbformat_minor": 2
}
